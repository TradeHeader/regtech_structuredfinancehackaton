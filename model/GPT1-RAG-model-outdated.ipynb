{
 "cells": [
  {
   "cell_type": "markdown",
   "metadata": {},
   "source": [
    "Copyright 2024 TradeHeader SL",
    "\n",
    "Licensed under the Apache License, Version 2.0 (the "License"); you may not use this file except in compliance with the License.",
    "You may obtain a copy of the License at",
    "\n",
    "\thttp://www.apache.org/licenses/LICENSE-2.0",
    "\n",
    "Unless required by applicable law or agreed to in writing, software distributed under the License is distributed on an "AS IS" BASIS, WITHOUT WARRANTIES OR CONDITIONS OF ANY KIND, either express or implied.",
    "See the License for the specific language governing permissions and limitations under the License."
   ]
  },
  {
   "cell_type": "markdown",
   "metadata": {},
   "source": [
    "#### Imports, setting environment and GPT API key"
   ]
  },
  {
   "cell_type": "code",
   "execution_count": 1,
   "metadata": {},
   "outputs": [],
   "source": [
    "import os\n",
    "from dotenv import load_dotenv #library to read the environment variables\n",
    "from langchain_openai.chat_models import ChatOpenAI\n",
    "from langchain_openai.embeddings import OpenAIEmbeddings\n",
    "from langchain_community.llms import Ollama\n",
    "from langchain_community.embeddings import OllamaEmbeddings\n",
    "from langchain_core.output_parsers import StrOutputParser\n",
    "from langchain_community.document_loaders import PyPDFLoader #there are a bunch of loaders in langchain library\n",
    "from langchain.prompts import PromptTemplate\n",
    "from langchain_community.vectorstores import DocArrayInMemorySearch\n",
    "from operator import itemgetter\n",
    "\n",
    "#environment variables\n",
    "load_dotenv()\n",
    "\n",
    "#key config\n",
    "OPENAI_API_KEY = os.getenv(\"OPENAI_API_KEY\") #get the key"
   ]
  },
  {
   "cell_type": "markdown",
   "metadata": {},
   "source": [
    "#### Functions to generate the model and the responses"
   ]
  },
  {
   "cell_type": "code",
   "execution_count": 2,
   "metadata": {},
   "outputs": [],
   "source": [
    "def chain_generator(MODEL, document):\n",
    "    \"\"\"\n",
    "    Generates a LangChain processing chain for answering questions based on the context extracted from a document.\n",
    "\n",
    "    Parameters:\n",
    "    - MODEL (str): The name of the AI model to use. This can be a GPT model (e.g., \"gpt-3.5-turbo\") from OpenAI or an Ollama model.\n",
    "    - document (str): The path to the PDF document that will be used as the context source for answering questions.\n",
    "\n",
    "    Returns:\n",
    "    - chain (Chain): A LangChain object representing the processing chain. This chain includes context retrieval,\n",
    "      question handling, and the final model response based on the provided document context.\n",
    "    \"\"\"\n",
    "    #sets the model\n",
    "    if MODEL.startswith(\"gpt\"):\n",
    "        model = ChatOpenAI(api_key=OPENAI_API_KEY, model=MODEL)\n",
    "        embeddings = OpenAIEmbeddings()\n",
    "    else:\n",
    "        model = Ollama(model=MODEL)\n",
    "        embeddings = OllamaEmbeddings()\n",
    "\n",
    "    print(\"Setting up parser and prompt template...\")\n",
    "    #parser\n",
    "    parser = StrOutputParser()\n",
    "\n",
    "    #prompt\n",
    "    template = \"\"\"Answer the question based on the context below. \n",
    "    If you can't answer the question, reply \"I don't know\".\n",
    "    Context : {context}\n",
    "\n",
    "    Question: {question}\n",
    "    \"\"\"\n",
    "    prompt = PromptTemplate.from_template(template) #takes the prompt\n",
    "\n",
    "    print(\"Loading and splitting document...\")\n",
    "    #loading documents\n",
    "    loader = PyPDFLoader (document)\n",
    "    pages = loader.load_and_split()\n",
    "\n",
    "    print(\"Storing vectors in memory...\")\n",
    "    #storing vectors\n",
    "    vectorStore = DocArrayInMemorySearch.from_documents(pages, embedding=embeddings)\n",
    "\n",
    "    print(\"Setting up retriever...\")\n",
    "    #vectors retrieval\n",
    "    retriever = vectorStore.as_retriever() #the retriever can get the information from anywhere\n",
    "                                #in this case the info is taken from the vectorStore\n",
    "\n",
    "    print(\"Building the final chain...\")\n",
    "    #final chain\n",
    "    chain = (\n",
    "        {\n",
    "            \"context\": itemgetter(\"question\") | retriever, #the question is passed to the retriever -> we get the context\n",
    "            \"question\": itemgetter(\"question\") #the question\n",
    "        }\n",
    "        | prompt\n",
    "        | model\n",
    "        | parser\n",
    "    )\n",
    "    print (\"Chain completed!\")\n",
    "    print (\"===========================================================\")\n",
    "    return chain\n",
    "\n",
    "def get_answers (chain, questions):\n",
    "    \"\"\"\n",
    "    Retrieves answers to a list of questions using a given LangChain processing chain.\n",
    "\n",
    "    Parameters:\n",
    "    - chain (Chain): A LangChain object representing the processing chain for retrieving and answering questions.\n",
    "    - questions (list of str): A list of questions to be answered using the provided chain.\n",
    "\n",
    "    Returns:\n",
    "    - list: A list of strings, each containing the corresponding answer respectively.\n",
    "    \"\"\"\n",
    "    for question in questions:\n",
    "        print(f\"Question: {question}\")\n",
    "        print(f\"Answer: {chain.invoke({\"question\": question})}\")\n",
    "        print()\n",
    "    return chain.batch([{\"question\":q} for q in questions])"
   ]
  },
  {
   "cell_type": "markdown",
   "metadata": {},
   "source": [
    "#### Variables for this particular case"
   ]
  },
  {
   "cell_type": "code",
   "execution_count": 3,
   "metadata": {},
   "outputs": [],
   "source": [
    "#available models\n",
    "MODEL_GPT = \"gpt-3.5-turbo\" \n",
    "MODEL_LLAMA2 = \"llama2\"\n",
    "MODEL_LLAMA3 = \"llama3\"\n",
    "\n",
    "#available documentation\n",
    "CFTC_Part45 = \"CFTC_TechSpec_Part43_45_093021.pdf\"\n",
    "\n",
    "#questions\n",
    "CFTC_Part45_questions = [\n",
    "    \"Is the UTI reportable under CFTC?\",\n",
    "    \"Is the USI reportable under CFTC?\",\n",
    "    \"Which is the format of the Event Date field?\",\n",
    "    \"Which are the validation rules for the Reporting Timestamp field?\",\n",
    "    \"Is the Notional Amount Leg 2 field expected to be filled for options?\",\n",
    "    \"Which is the number of field for the Event Type?\",\n",
    "    \"Can we have a combination of Action Type = 'CORR' reported together with an Event Type 'NOVA'?\",\n",
    "    \"How many reports are defined under CFTC Part 45?\",\n",
    "    \"Which are the allowable values for the field Collateral Portfolio Indicator?\",\n",
    "    \"To which asset classes is reportable the Exchange Rate field?\",\n",
    "    \"Is delegated reporting in scope for CFTC?\",\n",
    "    \"Can we have a REVIVE of a report after the expiration date?\",\n",
    "    \"Which is the definition of the field Price?\",\n",
    "    \"How many Validation Rules does the field Option Barrier have?\" #Option Barrier field does not exist\n",
    "]"
   ]
  },
  {
   "cell_type": "markdown",
   "metadata": {},
   "source": [
    "#### Applying the model to our use case"
   ]
  },
  {
   "cell_type": "code",
   "execution_count": 4,
   "metadata": {},
   "outputs": [
    {
     "name": "stdout",
     "output_type": "stream",
     "text": [
      "Setting up parser and prompt template...\n",
      "Loading and splitting document...\n",
      "Storing vectors in memory...\n",
      "Setting up retriever...\n",
      "Building the final chain...\n",
      "Chain completed!\n",
      "===========================================================\n",
      "Question: Is the UTI reportable under CFTC?\n",
      "Answer: Yes.\n",
      "\n",
      "Question: Is the USI reportable under CFTC?\n",
      "Answer: I don't know.\n",
      "\n",
      "Question: Which is the format of the Event Date field?\n",
      "Answer: I don't know.\n",
      "\n",
      "Question: Which are the validation rules for the Reporting Timestamp field?\n",
      "Answer: I don't know.\n",
      "\n",
      "Question: Is the Notional Amount Leg 2 field expected to be filled for options?\n",
      "Answer: I don't know.\n",
      "\n",
      "Question: Which is the number of field for the Event Type?\n",
      "Answer: 9\n",
      "\n",
      "Question: Can we have a combination of Action Type = 'CORR' reported together with an Event Type 'NOVA'?\n",
      "Answer: I don't know.\n",
      "\n",
      "Question: How many reports are defined under CFTC Part 45?\n",
      "Answer: I don't know.\n",
      "\n",
      "Question: Which are the allowable values for the field Collateral Portfolio Indicator?\n",
      "Answer: I don't know.\n",
      "\n",
      "Question: To which asset classes is reportable the Exchange Rate field?\n",
      "Answer: Foreign exchange options, equity options, commodity options, and similar products.\n",
      "\n",
      "Question: Is delegated reporting in scope for CFTC?\n",
      "Answer: I don't know.\n",
      "\n",
      "Question: Can we have a REVIVE of a report after the expiration date?\n",
      "Answer: I don't know.\n",
      "\n",
      "Question: Which is the definition of the field Price?\n",
      "Answer: The definition of the field Price is the monetary amount at which the transaction is expressed.\n",
      "\n",
      "Question: How many Validation Rules does the field Option Barrier have?\n",
      "Answer: I don't know.\n",
      "\n"
     ]
    }
   ],
   "source": [
    "chain_GPT_CFTC = chain_generator(MODEL_GPT, CFTC_Part45)\n",
    "answers_GPT_CFTC = get_answers (chain_GPT_CFTC, CFTC_Part45_questions)"
   ]
  },
  {
   "cell_type": "code",
   "execution_count": 5,
   "metadata": {},
   "outputs": [
    {
     "data": {
      "text/plain": [
       "['Yes, the UTI (Unique Transaction Identifier) is reportable under CFTC.',\n",
       " \"I don't know.\",\n",
       " 'The format of the Event Date field is YYYY-MM-DDThh:mm:ssZ, based on UTC.',\n",
       " \"I don't know.\",\n",
       " \"I don't know.\",\n",
       " \"I don't know.\",\n",
       " \"I don't know.\",\n",
       " \"I don't know.\",\n",
       " \"I don't know.\",\n",
       " 'Foreign Exchange (FX) asset class.',\n",
       " \"I don't know.\",\n",
       " \"I don't know.\",\n",
       " 'The definition of the field Price is the monetary amount or decimal that expresses the price of the transaction.',\n",
       " \"I don't know.\"]"
      ]
     },
     "execution_count": 5,
     "metadata": {},
     "output_type": "execute_result"
    }
   ],
   "source": [
    "answers_GPT_CFTC"
   ]
  },
  {
   "cell_type": "code",
   "execution_count": null,
   "metadata": {},
   "outputs": [],
   "source": []
  }
 ],
 "metadata": {
  "kernelspec": {
   "display_name": ".venv",
   "language": "python",
   "name": "python3"
  },
  "language_info": {
   "codemirror_mode": {
    "name": "ipython",
    "version": 3
   },
   "file_extension": ".py",
   "mimetype": "text/x-python",
   "name": "python",
   "nbconvert_exporter": "python",
   "pygments_lexer": "ipython3",
   "version": "3.12.3"
  }
 },
 "nbformat": 4,
 "nbformat_minor": 2
}
